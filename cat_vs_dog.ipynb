{
  "cells": [
    {
      "cell_type": "markdown",
      "metadata": {
        "id": "X22-L0SmcwGm"
      },
      "source": [
        "# Premier neurone\n",
        "fait en suivant la série de vidéo sur le deep learning de machine learnia"
      ]
    },
    {
      "cell_type": "code",
      "execution_count": 10,
      "metadata": {
        "id": "taxvMyeXFG5Q"
      },
      "outputs": [],
      "source": [
        "import numpy as np\n",
        "import matplotlib.pyplot as plt\n",
        "from sklearn.datasets import make_blobs\n"
      ]
    },
    {
      "cell_type": "code",
      "execution_count": null,
      "metadata": {
        "colab": {
          "base_uri": "https://localhost:8080/",
          "height": 465
        },
        "id": "cOPyahTbVfaY",
        "outputId": "2dd5f57c-395e-4b4b-cfb3-42d648767cb9"
      },
      "outputs": [],
      "source": [
        "# création d'un jeu de données - exemple pour les plantes toxiques\n",
        "X, y = make_blobs(n_samples=100, n_features=2, centers=2, random_state=0)\n",
        "y = y.reshape((y.shape[0], 1))\n",
        "\n",
        "print('dimensions de X:', X.shape)\n",
        "print('dimensions de y:', y.shape)\n",
        "\n",
        "plt.scatter(X[:,0], X[:, 1], c=y, cmap='summer')\n",
        "plt.show()"
      ]
    },
    {
      "cell_type": "code",
      "execution_count": 12,
      "metadata": {
        "id": "YpLeNXqnVmIn"
      },
      "outputs": [],
      "source": [
        "def initialisation(X):\n",
        "    W = np.random.randn(X.shape[1], 1)\n",
        "    b = np.random.randn(1)\n",
        "    return (W, b)"
      ]
    },
    {
      "cell_type": "code",
      "execution_count": 13,
      "metadata": {
        "id": "9yB7yhMeYHxw"
      },
      "outputs": [],
      "source": [
        "def model(X, W, b):\n",
        "    Z = X.dot(W) + b\n",
        "    A = 1 / (1 + np.exp(-Z))\n",
        "    return A"
      ]
    },
    {
      "cell_type": "code",
      "execution_count": 14,
      "metadata": {
        "id": "H2oOruW4YQb-"
      },
      "outputs": [],
      "source": [
        "def log_loss(A, y):\n",
        "    return 1 / len(y) * np.sum(-y * np.log(A) - (1 - y) * np.log(1 - A))"
      ]
    },
    {
      "cell_type": "code",
      "execution_count": 15,
      "metadata": {
        "id": "sUlkmuwPYRLR"
      },
      "outputs": [],
      "source": [
        "def gradients(A, X, y):\n",
        "    dW = 1 / len(y) * np.dot(X.T, A - y)\n",
        "    db = 1 / len(y) * np.sum(A - y)\n",
        "    return (dW, db)"
      ]
    },
    {
      "cell_type": "code",
      "execution_count": 16,
      "metadata": {
        "id": "wkBirnRYYS3n"
      },
      "outputs": [],
      "source": [
        "def update(dW, db, W, b, learning_rate):\n",
        "    W = W - learning_rate * dW\n",
        "    b = b - learning_rate * db\n",
        "    return (W, b)"
      ]
    },
    {
      "cell_type": "code",
      "execution_count": 17,
      "metadata": {
        "id": "zQY19av0YV9c"
      },
      "outputs": [],
      "source": [
        "def predict(X, W, b):\n",
        "    A = model(X, W, b)\n",
        "    # print(A)\n",
        "    return A >= 0.5"
      ]
    },
    {
      "cell_type": "code",
      "execution_count": 18,
      "metadata": {
        "id": "UCoeTfaKYXxP"
      },
      "outputs": [],
      "source": [
        "from sklearn.metrics import accuracy_score"
      ]
    },
    {
      "cell_type": "code",
      "execution_count": 36,
      "metadata": {
        "id": "uCA9fSRmYZ30"
      },
      "outputs": [],
      "source": [
        "def artificial_neuron(X, y, learning_rate = 0.1, n_iter = 100):\n",
        "    # initialisation W, b\n",
        "    W, b = initialisation(X)\n",
        "\n",
        "    Loss = []\n",
        "\n",
        "    for i in range(n_iter):\n",
        "        A = model(X, W, b)\n",
        "        Loss.append(log_loss(A, y))\n",
        "        dW, db = gradients(A, X, y)\n",
        "        W, b = update(dW, db, W, b, learning_rate)\n",
        "\n",
        "    y_pred = predict(X, W, b)\n",
        "    print(accuracy_score(y, y_pred))\n",
        "\n",
        "    plt.plot(Loss)\n",
        "    plt.show()\n",
        "\n",
        "    return (W, b)"
      ]
    },
    {
      "cell_type": "code",
      "execution_count": 30,
      "metadata": {
        "colab": {
          "base_uri": "https://localhost:8080/",
          "height": 447
        },
        "id": "8u6xmqUvYget",
        "outputId": "5acc031f-6b24-4228-ae4e-07a67ba08f82"
      },
      "outputs": [
        {
          "name": "stdout",
          "output_type": "stream",
          "text": [
            "0.91\n"
          ]
        },
        {
          "data": {
            "image/png": "[encoded data removed]",
            "text/plain": [
              "<Figure size 640x480 with 1 Axes>"
            ]
          },
          "metadata": {},
          "output_type": "display_data"
        }
      ],
      "source": [
        "W, b = artificial_neuron(X, y)"
      ]
    },
    {
      "cell_type": "markdown",
      "metadata": {
        "id": "JCq-qA_ldBcU"
      },
      "source": [
        "# **Cat vs dog**\n",
        "Le but de l'exervice est d'entrainer le modèle à l'aide d'un datasets donné afin qu'il puisse reconnaitre un chien ou un chat à partir d'une photo"
      ]
    },
    {
      "cell_type": "code",
      "execution_count": 61,
      "metadata": {},
      "outputs": [],
      "source": [
        "def initialisation(X):\n",
        "    W = np.random.randn(X.shape[1], 1)  # Réduire l'échelle des poids\n",
        "    b = 0.0  # Initialiser le biais à zéro\n",
        "    return (W, b)"
      ]
    },
    {
      "cell_type": "code",
      "execution_count": 22,
      "metadata": {},
      "outputs": [],
      "source": [
        "def model(X, W, b):\n",
        "    Z = X.dot(W) + b\n",
        "    A = 1 / (1 + np.exp(-Z))\n",
        "    return A"
      ]
    },
    {
      "cell_type": "code",
      "execution_count": 45,
      "metadata": {},
      "outputs": [],
      "source": [
        "def log_loss(A, y):\n",
        "    epsilon = 1e-15\n",
        "    A = np.clip(A, epsilon, 1 - epsilon)\n",
        "    return 1 / len(y) * np.sum(-y * np.log(A) - (1 - y) * np.log(1 - A))"
      ]
    },
    {
      "cell_type": "code",
      "execution_count": 24,
      "metadata": {},
      "outputs": [],
      "source": [
        "def gradients(A, X, y):\n",
        "    dW = 1 / len(y) * np.dot(X.T, A - y)\n",
        "    db = 1 / len(y) * np.sum(A - y)\n",
        "    return (dW, db)"
      ]
    },
    {
      "cell_type": "code",
      "execution_count": 25,
      "metadata": {},
      "outputs": [],
      "source": [
        "def update(dW, db, W, b, learning_rate):\n",
        "    W = W - learning_rate * dW\n",
        "    b = b - learning_rate * db\n",
        "    return (W, b)"
      ]
    },
    {
      "cell_type": "code",
      "execution_count": 26,
      "metadata": {},
      "outputs": [],
      "source": [
        "def predict(X, W, b):\n",
        "    A = model(X, W, b)\n",
        "    # print(A)\n",
        "    return A >= 0.5"
      ]
    },
    {
      "cell_type": "code",
      "execution_count": 28,
      "metadata": {},
      "outputs": [],
      "source": [
        "from sklearn.metrics import accuracy_score"
      ]
    },
    {
      "cell_type": "code",
      "execution_count": 58,
      "metadata": {},
      "outputs": [],
      "source": [
        "def artificial_neuron(X, y, learning_rate = 0.001, n_iter = 1000):\n",
        "    # initialisation W, b\n",
        "    W, b = initialisation(X)\n",
        "\n",
        "    Loss = []\n",
        "\n",
        "    for i in range(n_iter):\n",
        "        A = model(X, W, b)\n",
        "        Loss.append(log_loss(A, y))\n",
        "        dW, db = gradients(A, X, y)\n",
        "        W, b = update(dW, db, W, b, learning_rate)\n",
        "        \n",
        "\n",
        "    y_pred = predict(X, W, b)\n",
        "    print(accuracy_score(y, y_pred))\n",
        "    \n",
        "        # Affichage des courbes\n",
        "    plt.figure(figsize=(12, 4))\n",
        "    \n",
        "    plt.subplot(1, 2, 1)\n",
        "    plt.plot(Loss)\n",
        "    plt.title(\"Evolution de la fonction coût\")\n",
        "    plt.xlabel(\"Itérations\")\n",
        "    plt.ylabel(\"Loss\")\n",
        "\n",
        "\n",
        "    plt.plot(Loss)\n",
        "    plt.show()\n",
        "\n",
        "    return (W, b)"
      ]
    },
    {
      "cell_type": "code",
      "execution_count": 2,
      "metadata": {
        "colab": {
          "base_uri": "https://localhost:8080/"
        },
        "id": "mwVTjVcBg6S9",
        "outputId": "968846d6-d9a8-4236-acac-f7482832ee67"
      },
      "outputs": [
        {
          "name": "stdout",
          "output_type": "stream",
          "text": [
            "Defaulting to user installation because normal site-packages is not writeable\n",
            "Requirement already satisfied: h5py in c:\\users\\yassi\\appdata\\local\\packages\\pythonsoftwarefoundation.python.3.12_qbz5n2kfra8p0\\localcache\\local-packages\\python312\\site-packages (3.12.1)\n",
            "Requirement already satisfied: numpy>=1.19.3 in c:\\users\\yassi\\appdata\\local\\packages\\pythonsoftwarefoundation.python.3.12_qbz5n2kfra8p0\\localcache\\local-packages\\python312\\site-packages (from h5py) (2.0.2)\n"
          ]
        }
      ],
      "source": [
        "%pip install h5py\n",
        "import numpy as np\n",
        "import matplotlib.pyplot as plt\n"
      ]
    },
    {
      "cell_type": "code",
      "execution_count": 38,
      "metadata": {
        "colab": {
          "base_uri": "https://localhost:8080/",
          "height": 460
        },
        "id": "0mys5IQBYjlV",
        "outputId": "367c9747-849b-4b75-edd4-507b65a1f091"
      },
      "outputs": [],
      "source": [
        "from utilities import *\n",
        "X_train, y_train, X_test, y_test = load_data()\n"
      ]
    },
    {
      "cell_type": "code",
      "execution_count": 39,
      "metadata": {
        "colab": {
          "base_uri": "https://localhost:8080/",
          "height": 159
        },
        "id": "Y1SfxOwWleI7",
        "outputId": "cdd65619-0679-4d5d-9c03-bf46a355bc47"
      },
      "outputs": [
        {
          "name": "stdout",
          "output_type": "stream",
          "text": [
            "X_train shape: (1000, 64, 64)\n",
            "X_test shape: (200, 64, 64)\n",
            "y_train shape: (1000, 1)\n",
            "y_test shape: (200, 1)\n"
          ]
        }
      ],
      "source": [
        "print(f\"X_train shape: {X_train.shape}\")\n",
        "print(f\"X_test shape: {X_test.shape}\")\n",
        "print(f\"y_train shape: {y_train.shape}\")\n",
        "print(f\"y_test shape: {y_test.shape}\")"
      ]
    },
    {
      "cell_type": "code",
      "execution_count": null,
      "metadata": {},
      "outputs": [],
      "source": [
        "# utilisation matplotlib pour afficher les 10 premieres images du datasets\n",
        "plt.figure(figsize=(16,8))\n",
        "for i in range(1,10):\n",
        "    plt.subplot(4,5,i)\n",
        "    plt.imshow(X_train[i], cmap='gray')\n",
        "    plt.title(y_train[i])\n",
        "    plt.tight_layout\n"
      ]
    },
    {
      "cell_type": "code",
      "execution_count": 8,
      "metadata": {},
      "outputs": [
        {
          "name": "stdout",
          "output_type": "stream",
          "text": [
            "X_train_normalized: min = 0.0, max = 0.996078431372549\n",
            "X_test_normalized: min = 0.0, max = 0.996078431372549\n"
          ]
        }
      ],
      "source": [
        "#Normalisation des datas \n",
        "#on normalise que les images\n",
        "X_train_normalized = X_train / 255.0\n",
        "X_test_normalized = X_test / 255.0\n",
        "\n",
        "# Vérification des valeurs\n",
        "print(f\"X_train_normalized: min = {X_train_normalized.min()}, max = {X_train_normalized.max()}\")\n",
        "print(f\"X_test_normalized: min = {X_test_normalized.min()}, max = {X_test_normalized.max()}\")"
      ]
    },
    {
      "cell_type": "code",
      "execution_count": 40,
      "metadata": {},
      "outputs": [
        {
          "name": "stdout",
          "output_type": "stream",
          "text": [
            "X_train_flatten shape: (1000, 4096)\n",
            "X_test_flatten shape: (200, 4096)\n"
          ]
        }
      ],
      "source": [
        "#flattening des datas\n",
        "X_train_flatten = X_train_normalized.reshape(X_train_normalized.shape[0], -1)\n",
        "X_test_flatten = X_test_normalized.reshape(X_test_normalized.shape[0], -1)\n",
        "\n",
        "# Vérification des nouvelles dimensions\n",
        "print(f\"X_train_flatten shape: {X_train_flatten.shape}\")  # devrait être (1000, 4096)\n",
        "print(f\"X_test_flatten shape: {X_test_flatten.shape}\")    # devrait être (200, 4096)"
      ]
    },
    {
      "cell_type": "code",
      "execution_count": 62,
      "metadata": {},
      "outputs": [
        {
          "name": "stdout",
          "output_type": "stream",
          "text": [
            "0.522\n"
          ]
        },
        {
          "data": {
            "image/png": "[encoded data removed]",
            "text/plain": [
              "<Figure size 1200x400 with 1 Axes>"
            ]
          },
          "metadata": {},
          "output_type": "display_data"
        }
      ],
      "source": [
        "#Entrainer le modèle\n",
        "W, b = artificial_neuron(X_train_flatten, y_train)"
      ]
    }
  ],
  "metadata": {
    "colab": {
      "authorship_tag": "ABX9TyPy+OmmodVnhY2IFzNiIRpC",
      "mount_file_id": "1_2ClMi8hUWHFPWK4J6RAW1NeTnrslLt9",
      "provenance": []
    },
    "kernelspec": {
      "display_name": "Python 3",
      "name": "python3"
    },
    "language_info": {
      "codemirror_mode": {
        "name": "ipython",
        "version": 3
      },
      "file_extension": ".py",
      "mimetype": "text/x-python",
      "name": "python",
      "nbconvert_exporter": "python",
      "pygments_lexer": "ipython3",
      "version": "3.12.8"
    }
  },
  "nbformat": 4,
  "nbformat_minor": 0
}
